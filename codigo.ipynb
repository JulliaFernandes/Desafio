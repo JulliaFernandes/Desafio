{
 "cells": [
  {
   "cell_type": "code",
   "execution_count": 1,
   "metadata": {},
   "outputs": [
    {
     "name": "stdout",
     "output_type": "stream",
     "text": [
      "91\n"
     ]
    }
   ],
   "source": [
    "## Questão 1\n",
    "indice = 13\n",
    "k, soma = 0, 0\n",
    "\n",
    "while k < indice:\n",
    "    k += 1\n",
    "    soma += k\n",
    "\n",
    "print(soma)"
   ]
  },
  {
   "cell_type": "code",
   "execution_count": 6,
   "metadata": {},
   "outputs": [
    {
     "name": "stdout",
     "output_type": "stream",
     "text": [
      "5\n"
     ]
    }
   ],
   "source": [
    "## Questão 2\n",
    "def fibonacci(n):\n",
    "    if n == 0:\n",
    "        return 0\n",
    "    elif n == 1:\n",
    "        return 0\n",
    "    elif n == 2:\n",
    "        return 1\n",
    "    else:\n",
    "        return fibonacci(n-1) + fibonacci(n-2)\n",
    "   \n",
    "\n",
    "result = fibonacci(6)\n",
    "print(result)"
   ]
  },
  {
   "cell_type": "markdown",
   "metadata": {},
   "source": [
    "Questão 3\n",
    "\n",
    "a) 1, 3, 5, 7, _9_ (Ele pega somente os impares) \n",
    "\n",
    "b) 2, 4, 8, 16, 32, 64, _128_ (É 2 elevado ao quadrado da posição em que esta)\n",
    "\n",
    "c) 0, 1, 4, 9, 16, 25, 36, _49_ (É o valor anterior mais o valor impar em sequencia)\n",
    "\n",
    "d) 4, 16, 36, 64, _100_ (São os valores pares ao quadrado)\n",
    "\n",
    "e) 1, 1, 2, 3, 5, 8, _13_ (Sequencia de fibonacci)\n",
    "\n",
    "f) 2,10, 12, 16, 17, 18, 19, __"
   ]
  },
  {
   "cell_type": "markdown",
   "metadata": {},
   "source": []
  }
 ],
 "metadata": {
  "kernelspec": {
   "display_name": "Python 3",
   "language": "python",
   "name": "python3"
  },
  "language_info": {
   "codemirror_mode": {
    "name": "ipython",
    "version": 3
   },
   "file_extension": ".py",
   "mimetype": "text/x-python",
   "name": "python",
   "nbconvert_exporter": "python",
   "pygments_lexer": "ipython3",
   "version": "3.11.4"
  }
 },
 "nbformat": 4,
 "nbformat_minor": 2
}
